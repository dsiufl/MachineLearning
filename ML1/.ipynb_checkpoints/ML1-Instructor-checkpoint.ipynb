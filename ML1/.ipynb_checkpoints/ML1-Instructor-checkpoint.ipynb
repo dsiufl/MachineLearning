{
 "cells": [
  {
   "cell_type": "markdown",
   "metadata": {},
   "source": [
    "# ML1 : Machine Learning with Pokemon"
   ]
  },
  {
   "cell_type": "markdown",
   "metadata": {},
   "source": [
    "In this workshop we will go through the ML engineering process with a real dataset. We will be implementing each of the machine learning models that we discussed in ML0 and evaluate their performances. "
   ]
  },
  {
   "cell_type": "markdown",
   "metadata": {},
   "source": [
    "## Our Data\n",
    "We will be looking at a pokemon data meant to resemble a pokedex. It's not update to take into account the most recent pokemon but had data for 800 different ones.\n",
    "\n",
    "#### Importing Data"
   ]
  },
  {
   "cell_type": "code",
   "execution_count": 2,
   "metadata": {},
   "outputs": [],
   "source": [
    "import pandas as pd\n",
    "import numpy as np\n",
    "\n",
    "pokemon = pd.read_csv('pokemon.csv')"
   ]
  },
  {
   "cell_type": "markdown",
   "metadata": {},
   "source": [
    "## Data Cleaning\n",
    "First lets look at our data by taking a sample of it."
   ]
  },
  {
   "cell_type": "code",
   "execution_count": 3,
   "metadata": {},
   "outputs": [
    {
     "data": {
      "text/html": [
       "<div>\n",
       "<style scoped>\n",
       "    .dataframe tbody tr th:only-of-type {\n",
       "        vertical-align: middle;\n",
       "    }\n",
       "\n",
       "    .dataframe tbody tr th {\n",
       "        vertical-align: top;\n",
       "    }\n",
       "\n",
       "    .dataframe thead th {\n",
       "        text-align: right;\n",
       "    }\n",
       "</style>\n",
       "<table border=\"1\" class=\"dataframe\">\n",
       "  <thead>\n",
       "    <tr style=\"text-align: right;\">\n",
       "      <th></th>\n",
       "      <th>#</th>\n",
       "      <th>Name</th>\n",
       "      <th>Type 1</th>\n",
       "      <th>Type 2</th>\n",
       "      <th>Total</th>\n",
       "      <th>HP</th>\n",
       "      <th>Attack</th>\n",
       "      <th>Defense</th>\n",
       "      <th>Sp. Atk</th>\n",
       "      <th>Sp. Def</th>\n",
       "      <th>Speed</th>\n",
       "      <th>Generation</th>\n",
       "      <th>Legendary</th>\n",
       "    </tr>\n",
       "  </thead>\n",
       "  <tbody>\n",
       "    <tr>\n",
       "      <th>129</th>\n",
       "      <td>120</td>\n",
       "      <td>Staryu</td>\n",
       "      <td>Water</td>\n",
       "      <td>NaN</td>\n",
       "      <td>340</td>\n",
       "      <td>30</td>\n",
       "      <td>45</td>\n",
       "      <td>55</td>\n",
       "      <td>70</td>\n",
       "      <td>55</td>\n",
       "      <td>85</td>\n",
       "      <td>1</td>\n",
       "      <td>False</td>\n",
       "    </tr>\n",
       "    <tr>\n",
       "      <th>540</th>\n",
       "      <td>483</td>\n",
       "      <td>Dialga</td>\n",
       "      <td>Steel</td>\n",
       "      <td>Dragon</td>\n",
       "      <td>680</td>\n",
       "      <td>100</td>\n",
       "      <td>120</td>\n",
       "      <td>120</td>\n",
       "      <td>150</td>\n",
       "      <td>100</td>\n",
       "      <td>90</td>\n",
       "      <td>4</td>\n",
       "      <td>True</td>\n",
       "    </tr>\n",
       "    <tr>\n",
       "      <th>233</th>\n",
       "      <td>215</td>\n",
       "      <td>Sneasel</td>\n",
       "      <td>Dark</td>\n",
       "      <td>Ice</td>\n",
       "      <td>430</td>\n",
       "      <td>55</td>\n",
       "      <td>95</td>\n",
       "      <td>55</td>\n",
       "      <td>35</td>\n",
       "      <td>75</td>\n",
       "      <td>115</td>\n",
       "      <td>2</td>\n",
       "      <td>False</td>\n",
       "    </tr>\n",
       "    <tr>\n",
       "      <th>45</th>\n",
       "      <td>40</td>\n",
       "      <td>Wigglytuff</td>\n",
       "      <td>Normal</td>\n",
       "      <td>Fairy</td>\n",
       "      <td>435</td>\n",
       "      <td>140</td>\n",
       "      <td>70</td>\n",
       "      <td>45</td>\n",
       "      <td>85</td>\n",
       "      <td>50</td>\n",
       "      <td>45</td>\n",
       "      <td>1</td>\n",
       "      <td>False</td>\n",
       "    </tr>\n",
       "    <tr>\n",
       "      <th>74</th>\n",
       "      <td>68</td>\n",
       "      <td>Machamp</td>\n",
       "      <td>Fighting</td>\n",
       "      <td>NaN</td>\n",
       "      <td>505</td>\n",
       "      <td>90</td>\n",
       "      <td>130</td>\n",
       "      <td>80</td>\n",
       "      <td>65</td>\n",
       "      <td>85</td>\n",
       "      <td>55</td>\n",
       "      <td>1</td>\n",
       "      <td>False</td>\n",
       "    </tr>\n",
       "  </tbody>\n",
       "</table>\n",
       "</div>"
      ],
      "text/plain": [
       "       #        Name    Type 1  Type 2  Total   HP  Attack  Defense  Sp. Atk  \\\n",
       "129  120      Staryu     Water     NaN    340   30      45       55       70   \n",
       "540  483      Dialga     Steel  Dragon    680  100     120      120      150   \n",
       "233  215     Sneasel      Dark     Ice    430   55      95       55       35   \n",
       "45    40  Wigglytuff    Normal   Fairy    435  140      70       45       85   \n",
       "74    68     Machamp  Fighting     NaN    505   90     130       80       65   \n",
       "\n",
       "     Sp. Def  Speed  Generation  Legendary  \n",
       "129       55     85           1      False  \n",
       "540      100     90           4       True  \n",
       "233       75    115           2      False  \n",
       "45        50     45           1      False  \n",
       "74        85     55           1      False  "
      ]
     },
     "execution_count": 3,
     "metadata": {},
     "output_type": "execute_result"
    }
   ],
   "source": [
    "pokemon.sample(5)"
   ]
  },
  {
   "cell_type": "markdown",
   "metadata": {},
   "source": [
    "The first column in not needed so we will get rid of it"
   ]
  },
  {
   "cell_type": "code",
   "execution_count": 4,
   "metadata": {},
   "outputs": [],
   "source": [
    "pokemon = pokemon.drop(columns=['#','Name'])"
   ]
  },
  {
   "cell_type": "code",
   "execution_count": 5,
   "metadata": {},
   "outputs": [
    {
     "data": {
      "text/html": [
       "<div>\n",
       "<style scoped>\n",
       "    .dataframe tbody tr th:only-of-type {\n",
       "        vertical-align: middle;\n",
       "    }\n",
       "\n",
       "    .dataframe tbody tr th {\n",
       "        vertical-align: top;\n",
       "    }\n",
       "\n",
       "    .dataframe thead th {\n",
       "        text-align: right;\n",
       "    }\n",
       "</style>\n",
       "<table border=\"1\" class=\"dataframe\">\n",
       "  <thead>\n",
       "    <tr style=\"text-align: right;\">\n",
       "      <th></th>\n",
       "      <th>Type 1</th>\n",
       "      <th>Type 2</th>\n",
       "      <th>Total</th>\n",
       "      <th>HP</th>\n",
       "      <th>Attack</th>\n",
       "      <th>Defense</th>\n",
       "      <th>Sp. Atk</th>\n",
       "      <th>Sp. Def</th>\n",
       "      <th>Speed</th>\n",
       "      <th>Generation</th>\n",
       "      <th>Legendary</th>\n",
       "    </tr>\n",
       "  </thead>\n",
       "  <tbody>\n",
       "    <tr>\n",
       "      <th>250</th>\n",
       "      <td>Ground</td>\n",
       "      <td>NaN</td>\n",
       "      <td>330</td>\n",
       "      <td>90</td>\n",
       "      <td>60</td>\n",
       "      <td>60</td>\n",
       "      <td>40</td>\n",
       "      <td>40</td>\n",
       "      <td>40</td>\n",
       "      <td>2</td>\n",
       "      <td>False</td>\n",
       "    </tr>\n",
       "  </tbody>\n",
       "</table>\n",
       "</div>"
      ],
      "text/plain": [
       "     Type 1 Type 2  Total  HP  Attack  Defense  Sp. Atk  Sp. Def  Speed  \\\n",
       "250  Ground    NaN    330  90      60       60       40       40     40   \n",
       "\n",
       "     Generation  Legendary  \n",
       "250           2      False  "
      ]
     },
     "execution_count": 5,
     "metadata": {},
     "output_type": "execute_result"
    }
   ],
   "source": [
    "pokemon.sample()"
   ]
  },
  {
   "cell_type": "markdown",
   "metadata": {},
   "source": [
    "This data has already been preprocessed before us, so we don't have much to do here."
   ]
  },
  {
   "cell_type": "markdown",
   "metadata": {},
   "source": [
    "## Exploratory Data Analysis\n",
    "\n",
    "Now that we have clean data lets do some EDA before we get into the ML\n",
    "\n",
    "#### Importing Seaborn"
   ]
  },
  {
   "cell_type": "code",
   "execution_count": 6,
   "metadata": {},
   "outputs": [],
   "source": [
    "import seaborn as sns\n",
    "import matplotlib.pyplot as plt\n",
    "\n",
    "# Setting style preferences for seabron\n",
    "sns.set(style = 'darkgrid', color_codes = True)\n",
    "\n",
    "def setplt(x = 13, y = 9, a = 1, b = 1):\n",
    "    f, ax = plt.subplots(a,b,figsize = (x,y))\n",
    "    sns.despine(f, left = True, bottom = True)\n",
    "    return f, ax"
   ]
  },
  {
   "cell_type": "markdown",
   "metadata": {},
   "source": [
    "We can make scatterplots comparing all the features"
   ]
  },
  {
   "cell_type": "code",
   "execution_count": 7,
   "metadata": {},
   "outputs": [
    {
     "data": {
      "image/png": "[encoded data removed]",
      "text/plain": [
       "<Figure size 1080x504 with 6 Axes>"
      ]
     },
     "metadata": {},
     "output_type": "display_data"
    }
   ],
   "source": [
    "# Setting up subplots\n",
    "f, ax = setplt(15,7,2,3)\n",
    "\n",
    "# Plotting \n",
    "v_plot = sns.boxenplot(x = 'Legendary', y = \"HP\", data = pokemon, palette = \"Set2\", ax = ax[0][0])\n",
    "v_plot = sns.boxenplot(x = 'Legendary', y = \"Attack\", data = pokemon, palette = \"Set2\", ax = ax[0][1])\n",
    "v_plot = sns.boxenplot(x = 'Legendary', y = \"Defense\", data = pokemon, palette = \"Set2\", ax = ax[0][2])\n",
    "v_plot = sns.boxenplot(x = 'Legendary', y = \"Sp. Atk\", data = pokemon, palette = \"Set2\", ax = ax[1][0])\n",
    "v_plot = sns.boxenplot(x = 'Legendary', y = \"Sp. Def\", data = pokemon, palette = \"Set2\", ax = ax[1][1])\n",
    "v_plot = sns.boxenplot(x = 'Legendary', y = \"Speed\", data = pokemon, palette = \"Set2\", ax = ax[1][2])"
   ]
  },
  {
   "cell_type": "markdown",
   "metadata": {},
   "source": [
    "Above we can see that we can see clear distinctions in the rank when related to the other features. We can try to see if these features have any effect on other classes like discipline and sex and see that there is no relation."
   ]
  },
  {
   "cell_type": "markdown",
   "metadata": {},
   "source": [
    "### Our Objective\n",
    "\n",
    "Our goal for this workshop is to come up with the most efficient model to predict the rank e.i. Associate Professor, Assistant Professor, or Professor (tenured). We are given the stats for each professor such as the years they have worked, salary, and the years they have had thier PhD.\n",
    "\n",
    "<br>\n",
    "\n",
    "## Preparing our Data\n",
    "\n",
    "We now have to prepare out features and labels. We will also then have to create our training and testings sets. But first we need to replace some of the features with numerical values since out ML models will not take in strings. For example our disciple feature.\n",
    "\n",
    "<br>\n",
    "\n",
    "####  Encoding Labels\n",
    "ML models can't take in string values so they mush be converted to numerical values<br>\n",
    "<br>\n",
    "We needs to map the two types columns together so that similar types across columns won't have different labels"
   ]
  },
  {
   "cell_type": "code",
   "execution_count": 8,
   "metadata": {},
   "outputs": [
    {
     "data": {
      "text/html": [
       "<div>\n",
       "<style scoped>\n",
       "    .dataframe tbody tr th:only-of-type {\n",
       "        vertical-align: middle;\n",
       "    }\n",
       "\n",
       "    .dataframe tbody tr th {\n",
       "        vertical-align: top;\n",
       "    }\n",
       "\n",
       "    .dataframe thead th {\n",
       "        text-align: right;\n",
       "    }\n",
       "</style>\n",
       "<table border=\"1\" class=\"dataframe\">\n",
       "  <thead>\n",
       "    <tr style=\"text-align: right;\">\n",
       "      <th></th>\n",
       "      <th>Type 1</th>\n",
       "      <th>Type 2</th>\n",
       "    </tr>\n",
       "  </thead>\n",
       "  <tbody>\n",
       "    <tr>\n",
       "      <th>741</th>\n",
       "      <td>8</td>\n",
       "      <td>3</td>\n",
       "    </tr>\n",
       "    <tr>\n",
       "      <th>463</th>\n",
       "      <td>1</td>\n",
       "      <td>13</td>\n",
       "    </tr>\n",
       "    <tr>\n",
       "      <th>211</th>\n",
       "      <td>15</td>\n",
       "      <td>3</td>\n",
       "    </tr>\n",
       "    <tr>\n",
       "      <th>151</th>\n",
       "      <td>4</td>\n",
       "      <td>5</td>\n",
       "    </tr>\n",
       "    <tr>\n",
       "      <th>668</th>\n",
       "      <td>16</td>\n",
       "      <td>0</td>\n",
       "    </tr>\n",
       "  </tbody>\n",
       "</table>\n",
       "</div>"
      ],
      "text/plain": [
       "     Type 1  Type 2\n",
       "741       8       3\n",
       "463       1      13\n",
       "211      15       3\n",
       "151       4       5\n",
       "668      16       0"
      ]
     },
     "execution_count": 8,
     "metadata": {},
     "output_type": "execute_result"
    }
   ],
   "source": [
    "type_unique = list(set().union(pokemon['Type 1'].unique(),pokemon['Type 2'].unique()))\n",
    "type_map = dict(zip(type_unique, range(len(type_unique))))\n",
    "\n",
    "type_mapping = lambda x : type_map[x]\n",
    "\n",
    "pokemon['Type 1'] = pokemon['Type 1'].apply(type_mapping)\n",
    "pokemon['Type 2'] = pokemon['Type 2'].apply(type_mapping)\n",
    "pokemon[['Type 1','Type 2']].sample(5)"
   ]
  },
  {
   "cell_type": "markdown",
   "metadata": {},
   "source": [
    "#### Creating our Features"
   ]
  },
  {
   "cell_type": "code",
   "execution_count": 9,
   "metadata": {},
   "outputs": [
    {
     "data": {
      "text/html": [
       "<div>\n",
       "<style scoped>\n",
       "    .dataframe tbody tr th:only-of-type {\n",
       "        vertical-align: middle;\n",
       "    }\n",
       "\n",
       "    .dataframe tbody tr th {\n",
       "        vertical-align: top;\n",
       "    }\n",
       "\n",
       "    .dataframe thead th {\n",
       "        text-align: right;\n",
       "    }\n",
       "</style>\n",
       "<table border=\"1\" class=\"dataframe\">\n",
       "  <thead>\n",
       "    <tr style=\"text-align: right;\">\n",
       "      <th></th>\n",
       "      <th>Type 1</th>\n",
       "      <th>Type 2</th>\n",
       "      <th>Total</th>\n",
       "      <th>HP</th>\n",
       "      <th>Attack</th>\n",
       "      <th>Defense</th>\n",
       "      <th>Sp. Atk</th>\n",
       "      <th>Sp. Def</th>\n",
       "      <th>Speed</th>\n",
       "      <th>Generation</th>\n",
       "    </tr>\n",
       "  </thead>\n",
       "  <tbody>\n",
       "    <tr>\n",
       "      <th>0</th>\n",
       "      <td>8</td>\n",
       "      <td>2</td>\n",
       "      <td>318</td>\n",
       "      <td>45</td>\n",
       "      <td>49</td>\n",
       "      <td>49</td>\n",
       "      <td>65</td>\n",
       "      <td>65</td>\n",
       "      <td>45</td>\n",
       "      <td>1</td>\n",
       "    </tr>\n",
       "    <tr>\n",
       "      <th>1</th>\n",
       "      <td>8</td>\n",
       "      <td>2</td>\n",
       "      <td>405</td>\n",
       "      <td>60</td>\n",
       "      <td>62</td>\n",
       "      <td>63</td>\n",
       "      <td>80</td>\n",
       "      <td>80</td>\n",
       "      <td>60</td>\n",
       "      <td>1</td>\n",
       "    </tr>\n",
       "  </tbody>\n",
       "</table>\n",
       "</div>"
      ],
      "text/plain": [
       "   Type 1  Type 2  Total  HP  Attack  Defense  Sp. Atk  Sp. Def  Speed  \\\n",
       "0       8       2    318  45      49       49       65       65     45   \n",
       "1       8       2    405  60      62       63       80       80     60   \n",
       "\n",
       "   Generation  \n",
       "0           1  \n",
       "1           1  "
      ]
     },
     "execution_count": 9,
     "metadata": {},
     "output_type": "execute_result"
    }
   ],
   "source": [
    "features = pokemon.drop(columns=['Legendary'])\n",
    "features.head(2)"
   ]
  },
  {
   "cell_type": "markdown",
   "metadata": {},
   "source": [
    "#### Creating our Labels"
   ]
  },
  {
   "cell_type": "code",
   "execution_count": 10,
   "metadata": {},
   "outputs": [
    {
     "data": {
      "text/plain": [
       "0    False\n",
       "1    False\n",
       "Name: Legendary, dtype: bool"
      ]
     },
     "execution_count": 10,
     "metadata": {},
     "output_type": "execute_result"
    }
   ],
   "source": [
    "labels = pokemon.Legendary\n",
    "labels.head(2)"
   ]
  },
  {
   "cell_type": "markdown",
   "metadata": {},
   "source": [
    "### Train-Test-Split"
   ]
  },
  {
   "cell_type": "code",
   "execution_count": 11,
   "metadata": {},
   "outputs": [
    {
     "name": "stdout",
     "output_type": "stream",
     "text": [
      "Shape of training features : \t(640, 10)\n",
      "Shape of training labels : \t(640,)\n",
      "Shape of testing features : \t(160, 10)\n",
      "Shape of testing labels : \t(160,)\n"
     ]
    }
   ],
   "source": [
    "from sklearn.model_selection import train_test_split\n",
    "\n",
    "X = features\n",
    "y = labels\n",
    "\n",
    "X_train, X_test, y_train, y_test = train_test_split(X, y, test_size=0.20)\n",
    "\n",
    "print('Shape of training features : \\t' + str(X_train.shape))\n",
    "print('Shape of training labels : \\t' + str(y_train.shape))\n",
    "print('Shape of testing features : \\t' + str(X_test.shape))\n",
    "print('Shape of testing labels : \\t' + str(y_test.shape))"
   ]
  },
  {
   "cell_type": "markdown",
   "metadata": {},
   "source": [
    "## Finding the Best Model\n",
    "\n",
    "Now we will go through the ML models we discussed in ML0. We will create a classifier using each of these algorithms and evaluate them to see which one gives us the best performance. <br>\n",
    "<br>- K-Nearest-Neighbors\n",
    "<br>- Random Forest\n",
    "<br>- Support Vector Machine\n",
    "<br>- Neural Network"
   ]
  },
  {
   "cell_type": "markdown",
   "metadata": {},
   "source": [
    "### K-Nearest-Neighbors Classification\n",
    "\n",
    "First we will try the KNN algorithm to create a KNN Classifier\n",
    "<br><br>\n",
    "Documentation:\n",
    "https://scikit-learn.org/stable/modules/generated/sklearn.neighbors.KNeighborsClassifier.html#sklearn.neighbors.KNeighborsClassifier.kneighbors"
   ]
  },
  {
   "cell_type": "code",
   "execution_count": 12,
   "metadata": {},
   "outputs": [
    {
     "data": {
      "text/plain": [
       "0.95625"
      ]
     },
     "execution_count": 12,
     "metadata": {},
     "output_type": "execute_result"
    }
   ],
   "source": [
    "# Importing Classifier from Sci-Kit Learn\n",
    "from sklearn.neighbors import KNeighborsClassifier\n",
    "\n",
    "# Initializing the KNN Classifier\n",
    "knn = KNeighborsClassifier(n_neighbors = 5)\n",
    " \n",
    "# Training model\n",
    "knn.fit(X_train, y_train)\n",
    "\n",
    "# Evaluating Method\n",
    "knn.score(X_test, y_test)"
   ]
  },
  {
   "cell_type": "markdown",
   "metadata": {},
   "source": [
    "##### Tuning Parameters"
   ]
  },
  {
   "cell_type": "code",
   "execution_count": 13,
   "metadata": {},
   "outputs": [
    {
     "data": {
      "text/plain": [
       "{'algorithm': 'auto',\n",
       " 'leaf_size': 30,\n",
       " 'metric': 'minkowski',\n",
       " 'metric_params': None,\n",
       " 'n_jobs': 1,\n",
       " 'n_neighbors': 5,\n",
       " 'p': 2,\n",
       " 'weights': 'uniform'}"
      ]
     },
     "execution_count": 13,
     "metadata": {},
     "output_type": "execute_result"
    }
   ],
   "source": [
    "knn.get_params()"
   ]
  },
  {
   "cell_type": "markdown",
   "metadata": {},
   "source": [
    "We want to find the value for n_neighbors to get us the best accuracy"
   ]
  },
  {
   "cell_type": "code",
   "execution_count": 14,
   "metadata": {},
   "outputs": [
    {
     "data": {
      "text/plain": [
       "<matplotlib.axes._subplots.AxesSubplot at 0x1a15868f60>"
      ]
     },
     "execution_count": 14,
     "metadata": {},
     "output_type": "execute_result"
    },
    {
     "data": {
      "image/png": "[encoded data removed]",
      "text/plain": [
       "<Figure size 576x360 with 1 Axes>"
      ]
     },
     "metadata": {},
     "output_type": "display_data"
    }
   ],
   "source": [
    "acc_list = []\n",
    "for x in range(1,41):\n",
    "    knn = KNeighborsClassifier(n_neighbors = x)\n",
    "    knn.fit(X_train, y_train)\n",
    "    acc_list.append(knn.score(X_test, y_test))\n",
    "\n",
    "setplt(8,5)\n",
    "sns.lineplot(x = range(1,41), y = acc_list)"
   ]
  },
  {
   "cell_type": "code",
   "execution_count": 15,
   "metadata": {},
   "outputs": [
    {
     "name": "stdout",
     "output_type": "stream",
     "text": [
      "Accuracy : 0.96875\n"
     ]
    }
   ],
   "source": [
    "knn_final = KNeighborsClassifier(n_neighbors=1)\n",
    "knn_final.fit(X_train,y_train)\n",
    "print('Accuracy : ' + str(knn_final.score(X_test, y_test)))"
   ]
  },
  {
   "cell_type": "markdown",
   "metadata": {},
   "source": [
    "##### Predictions"
   ]
  },
  {
   "cell_type": "code",
   "execution_count": 16,
   "metadata": {},
   "outputs": [
    {
     "data": {
      "text/plain": [
       "array([False, False, False, False, False, False, False, False, False,\n",
       "        True, False, False, False, False, False, False, False, False,\n",
       "       False, False, False, False,  True, False, False, False,  True,\n",
       "       False, False, False, False, False, False, False,  True, False,\n",
       "       False, False, False, False, False, False, False, False, False,\n",
       "       False, False, False, False, False, False, False, False, False,\n",
       "       False, False, False, False, False, False,  True, False,  True,\n",
       "       False, False, False, False, False, False, False, False, False,\n",
       "       False,  True, False, False, False, False, False, False, False,\n",
       "       False, False, False, False, False, False, False, False, False,\n",
       "       False, False, False, False,  True, False, False, False, False,\n",
       "       False, False, False, False, False, False, False, False, False,\n",
       "       False, False, False, False, False, False, False, False, False,\n",
       "       False, False, False, False, False,  True, False, False,  True,\n",
       "       False, False, False, False, False,  True, False, False, False,\n",
       "       False, False, False, False, False, False, False, False, False,\n",
       "       False, False, False, False,  True, False, False, False, False,\n",
       "        True, False, False, False, False, False, False])"
      ]
     },
     "execution_count": 16,
     "metadata": {},
     "output_type": "execute_result"
    }
   ],
   "source": [
    "knn_final.predict(X_test)"
   ]
  },
  {
   "cell_type": "markdown",
   "metadata": {},
   "source": [
    "### Random Forest Classification\n",
    "\n",
    "Now that we have an accuracy for our KNN model lets try and see if we can get better performance with out RF algorithm since 0.775 is not considered to be very accurate"
   ]
  },
  {
   "cell_type": "code",
   "execution_count": 17,
   "metadata": {},
   "outputs": [
    {
     "data": {
      "text/plain": [
       "0.95625"
      ]
     },
     "execution_count": 17,
     "metadata": {},
     "output_type": "execute_result"
    }
   ],
   "source": [
    "# Import RF Classifier\n",
    "from sklearn.ensemble import RandomForestClassifier\n",
    "\n",
    "# Initialize the Random Forest\n",
    "rf = RandomForestClassifier(n_estimators=10, criterion='gini') # Using Gini index to measure feature importance \n",
    "\n",
    "# Train Model\n",
    "rf.fit(X_train, y_train)\n",
    "\n",
    "# Test\n",
    "rf.score(X_test, y_test)"
   ]
  },
  {
   "cell_type": "markdown",
   "metadata": {},
   "source": [
    "##### Tuning Parameters\n",
    "\n",
    "Here we will have to tune our n_estimators parameter. There are others such as the criterion (above), bootstrapping, max_features, etc... For this our case we can simply use the default values that sklearn RFC gives us, and will mainly worry about the number of trees. Hence, we will tune the parameters similar to the way we did with KNN."
   ]
  },
  {
   "cell_type": "code",
   "execution_count": 18,
   "metadata": {},
   "outputs": [
    {
     "data": {
      "text/plain": [
       "<matplotlib.axes._subplots.AxesSubplot at 0x1a1578a978>"
      ]
     },
     "execution_count": 18,
     "metadata": {},
     "output_type": "execute_result"
    },
    {
     "data": {
      "image/png": "[encoded data removed]",
      "text/plain": [
       "<Figure size 576x360 with 1 Axes>"
      ]
     },
     "metadata": {},
     "output_type": "display_data"
    }
   ],
   "source": [
    "acc_list = []\n",
    "for x in range(10,101,5):\n",
    "    rf = RandomForestClassifier(n_estimators = x)\n",
    "    rf.fit(X_train, y_train)\n",
    "    acc_list.append(rf.score(X_test, y_test))\n",
    "\n",
    "\n",
    "setplt(8,5)\n",
    "sns.lineplot(x = range(10,101,5), y = acc_list)"
   ]
  },
  {
   "cell_type": "markdown",
   "metadata": {},
   "source": [
    "Look for the best performance and try that."
   ]
  },
  {
   "cell_type": "code",
   "execution_count": 66,
   "metadata": {},
   "outputs": [
    {
     "name": "stdout",
     "output_type": "stream",
     "text": [
      "Accuracy : 0.975\n"
     ]
    }
   ],
   "source": [
    "rf_final = RandomForestClassifier(n_estimators = 10)\n",
    "rf_final.fit(X_train, y_train)\n",
    "print( 'Accuracy : ' + str(rf_final.score(X_test, y_test)))"
   ]
  },
  {
   "cell_type": "markdown",
   "metadata": {},
   "source": [
    "<b>NOTE : </b> Since the creating of the model is randomized and not uniform like KNN, there will be a different testing accuracy every time because different bootstraps are being used to create our random forest every time we train. If you keep running the block above, the accuracy will be constantly changing.\n",
    "\n",
    "\n",
    "#### Why did the RFC do better?\n",
    "Our RFC model did pretty well compared to the KNN model. This is because this data can be easily categorized. Notice in the pairplots we made above the data can be seperated visually but there is a lot of overlap between the classes. Because of this KNN might have worse performance towards the edges. Random Forest allows us to make more reasonable distinctions using feature values."
   ]
  },
  {
   "cell_type": "markdown",
   "metadata": {},
   "source": [
    "### Support Vector Machine Classification\n",
    "\n",
    "Now we will try to use the SVC algorithm to create a classification model\n"
   ]
  },
  {
   "cell_type": "code",
   "execution_count": 67,
   "metadata": {},
   "outputs": [
    {
     "data": {
      "text/plain": [
       "0.925"
      ]
     },
     "execution_count": 67,
     "metadata": {},
     "output_type": "execute_result"
    }
   ],
   "source": [
    "# Importing SVC\n",
    "from sklearn.svm import SVC\n",
    "\n",
    "# Initialize the SVC\n",
    "svc = SVC()  # Use defualt paramters for now\n",
    "\n",
    "# Train Model\n",
    "svc.fit(X_train, y_train)\n",
    "\n",
    "# Test Model\n",
    "svc.score(X_test, y_test)"
   ]
  },
  {
   "cell_type": "markdown",
   "metadata": {},
   "source": [
    "##### Tuning Parameters"
   ]
  },
  {
   "cell_type": "code",
   "execution_count": 68,
   "metadata": {},
   "outputs": [
    {
     "data": {
      "text/plain": [
       "{'C': 1.0,\n",
       " 'cache_size': 200,\n",
       " 'class_weight': None,\n",
       " 'coef0': 0.0,\n",
       " 'decision_function_shape': 'ovr',\n",
       " 'degree': 3,\n",
       " 'gamma': 'auto',\n",
       " 'kernel': 'rbf',\n",
       " 'max_iter': -1,\n",
       " 'probability': False,\n",
       " 'random_state': None,\n",
       " 'shrinking': True,\n",
       " 'tol': 0.001,\n",
       " 'verbose': False}"
      ]
     },
     "execution_count": 68,
     "metadata": {},
     "output_type": "execute_result"
    }
   ],
   "source": [
    "svc.get_params()"
   ]
  },
  {
   "cell_type": "markdown",
   "metadata": {},
   "source": [
    "In this case we want to find the best combination of parameters since we will be chaning more than one paramter. Lets define the ones we want to change. Since we are working with the RBF kernel (we have more than three features so this is optimal) we will have to optimize the C and gamma parameters."
   ]
  },
  {
   "cell_type": "code",
   "execution_count": 69,
   "metadata": {},
   "outputs": [],
   "source": [
    "param_grid = {'C':[1.0, 0.1, 0.001],        # C = penalty of the error term\n",
    "              'gamma':[0.1, 0.01, 0.001]}   # gamma = the kernel coefficient"
   ]
  },
  {
   "cell_type": "markdown",
   "metadata": {},
   "source": [
    "Sci-Kit Learn has a very useful tool called the GridSearch. This makes finding the best paramters more simple but it essentially still uses trial and error."
   ]
  },
  {
   "cell_type": "code",
   "execution_count": 70,
   "metadata": {},
   "outputs": [
    {
     "name": "stdout",
     "output_type": "stream",
     "text": [
      "Best Parameters : {'C': 1.0, 'gamma': 0.001}\n"
     ]
    }
   ],
   "source": [
    "# Importing GridSearch\n",
    "from sklearn.model_selection import GridSearchCV\n",
    "\n",
    "# Initialize the GridSearch \n",
    "gridsearch = GridSearchCV(SVC(), param_grid)\n",
    "\n",
    "# Try all combinations\n",
    "gridsearch.fit(X_train, y_train)\n",
    "\n",
    "# Observe best parameters\n",
    "print('Best Parameters : ' + str(gridsearch.best_params_))"
   ]
  },
  {
   "cell_type": "code",
   "execution_count": 72,
   "metadata": {},
   "outputs": [
    {
     "data": {
      "text/plain": [
       "0.93125"
      ]
     },
     "execution_count": 72,
     "metadata": {},
     "output_type": "execute_result"
    }
   ],
   "source": [
    "params = gridsearch.best_params_\n",
    "svc = SVC(C = params['C'], gamma = params['gamma'])\n",
    "svc.fit(X_train, y_train)\n",
    "svc.score(X_test, y_test)"
   ]
  },
  {
   "cell_type": "markdown",
   "metadata": {},
   "source": [
    "<b>NOTE : </b> Grid search can be used to optimize any of the classical machine learning models we have discussed."
   ]
  },
  {
   "cell_type": "markdown",
   "metadata": {},
   "source": [
    "### Multi-Layer Perceptron\n",
    "We will now attempt to use a neural network to create a deep learning model. We will be using the keras library built from tensorflow"
   ]
  },
  {
   "cell_type": "markdown",
   "metadata": {},
   "source": [
    "#### Design\n",
    "\n",
    "First we will need to design our MLP given the features we have and what we need from the output."
   ]
  },
  {
   "cell_type": "markdown",
   "metadata": {},
   "source": [
    "#### Sizes of vital layers\n",
    "\n",
    "<b>Input Layer : </b> The number of features we are training on so in this case it will be <code>len(features.columns ) = 5</code>\n",
    "<br>\n",
    "<b>Hidden Layer : </b> We will experiment with the hidden layers but for now will just include the 4 nodes in a single hidden layer <br>\n",
    "<b>Output Layer : </b> The amount of unique labels we will classify data points as <code>len(targets.unique()) = 3</code>\n",
    "<br><br>\n",
    "<img src='nn.png' width='550'>"
   ]
  },
  {
   "cell_type": "markdown",
   "metadata": {},
   "source": [
    "Now that we have the architecture lets implement our network"
   ]
  },
  {
   "cell_type": "code",
   "execution_count": 79,
   "metadata": {},
   "outputs": [],
   "source": [
    "from tensorflow.keras.models import Sequential                       # Feed-Forward Model\n",
    "from tensorflow.keras.layers import Dense, Dropout, Activation       # Layers and Activation Functions\n",
    "from tensorflow.keras.optimizers import SGD                          # Stochastic Gradient Descent"
   ]
  },
  {
   "cell_type": "markdown",
   "metadata": {},
   "source": [
    "Encoding the Labels"
   ]
  },
  {
   "cell_type": "code",
   "execution_count": 100,
   "metadata": {},
   "outputs": [],
   "source": [
    "from sklearn.preprocessing import LabelEncoder, OneHotEncoder\n",
    "\n",
    "encoder = LabelEncoder()\n",
    "y_train_nn = encoder.fit_transform(y_train)\n",
    "y_test_nn = encoder.fit_transform(y_test)\n",
    "\n",
    "\n",
    "\n",
    "# FOR ONE-HOT ENCODING\n",
    "\n",
    "# onehotencoder = OneHotEncoder(sparse = False)\n",
    "# y_train = y_train.reshape(len(y_train),1)\n",
    "# y_test = y_test.reshape(len(y_test),1)\n",
    "# y_train = onehotencoder.fit_transform(y_train).astype(int)\n",
    "# y_test = onehotencoder.fit_transform(y_test).astype(int)\n",
    "# y_train[:5]\n"
   ]
  },
  {
   "cell_type": "markdown",
   "metadata": {},
   "source": [
    "##### Initializing the MLP"
   ]
  },
  {
   "cell_type": "code",
   "execution_count": 101,
   "metadata": {},
   "outputs": [
    {
     "name": "stdout",
     "output_type": "stream",
     "text": [
      "Epoch 1/10\n",
      "640/640 [==============================] - 1s 1ms/step - loss: 1.2844 - acc: 0.9203\n",
      "Epoch 2/10\n",
      "640/640 [==============================] - 0s 65us/step - loss: 1.2844 - acc: 0.9203\n",
      "Epoch 3/10\n",
      "640/640 [==============================] - 0s 65us/step - loss: 1.2844 - acc: 0.9203\n",
      "Epoch 4/10\n",
      "640/640 [==============================] - 0s 67us/step - loss: 1.2844 - acc: 0.9203\n",
      "Epoch 5/10\n",
      "640/640 [==============================] - 0s 69us/step - loss: 1.2844 - acc: 0.9203\n",
      "Epoch 6/10\n",
      "640/640 [==============================] - 0s 65us/step - loss: 1.2844 - acc: 0.9203\n",
      "Epoch 7/10\n",
      "640/640 [==============================] - 0s 66us/step - loss: 1.2844 - acc: 0.9203\n",
      "Epoch 8/10\n",
      "640/640 [==============================] - 0s 67us/step - loss: 1.2844 - acc: 0.9203\n",
      "Epoch 9/10\n",
      "640/640 [==============================] - 0s 69us/step - loss: 1.2844 - acc: 0.9203\n",
      "Epoch 10/10\n",
      "640/640 [==============================] - 0s 65us/step - loss: 1.2844 - acc: 0.9203\n"
     ]
    },
    {
     "data": {
      "text/plain": [
       "<tensorflow.python.keras.callbacks.History at 0x1a342fec88>"
      ]
     },
     "execution_count": 101,
     "metadata": {},
     "output_type": "execute_result"
    }
   ],
   "source": [
    "nn = Sequential()\n",
    "nn.add(Dense(4, activation='relu', input_dim=len(X_train.columns)))\n",
    "nn.add(Dense(1, activation='sigmoid'))\n",
    "\n",
    "nn.compile(loss='binary_crossentropy',        # Loss Function\n",
    "           optimizer='adam',                  # Optimization Function\n",
    "           metrics=['accuracy'])              # Chooseing classification accuracy as metric\n",
    "\n",
    "nn.fit(X_train, y_train_nn, epochs=10, batch_size=20)"
   ]
  },
  {
   "cell_type": "code",
   "execution_count": 102,
   "metadata": {},
   "outputs": [
    {
     "name": "stdout",
     "output_type": "stream",
     "text": [
      "160/160 [==============================] - 0s 1ms/step\n"
     ]
    },
    {
     "data": {
      "text/plain": [
       "[1.4103333592414855, 0.9125]"
      ]
     },
     "execution_count": 102,
     "metadata": {},
     "output_type": "execute_result"
    }
   ],
   "source": [
    "nn.evaluate(X_test, y_test_nn)"
   ]
  },
  {
   "cell_type": "markdown",
   "metadata": {},
   "source": [
    "##### Performance\n",
    "\n",
    "Notice how the Neural Network did not perform as well as the other models. This is mainly because MLP's are best when used with data that has a lot of features. For data with a low number of features a simpler method like RF will work better."
   ]
  },
  {
   "cell_type": "markdown",
   "metadata": {},
   "source": [
    "## Thank You\n",
    "\n",
    "Thanks for attending our first run of the ML series. Let us know if you enjoyed it or what you think could be improved, we are always looking information on how to improve our workshops to work better in the future."
   ]
  },
  {
   "cell_type": "markdown",
   "metadata": {},
   "source": [
    "## Interested in DSI?\n",
    "\n",
    "We are currently looking for new members to serve on our Junior Executive Board. If you are interested please come up and talk to us so we can giev you imformation about the application and interview process."
   ]
  },
  {
   "cell_type": "code",
   "execution_count": null,
   "metadata": {},
   "outputs": [],
   "source": []
  }
 ],
 "metadata": {
  "kernelspec": {
   "display_name": "Python 3",
   "language": "python",
   "name": "python3"
  },
  "language_info": {
   "codemirror_mode": {
    "name": "ipython",
    "version": 3
   },
   "file_extension": ".py",
   "mimetype": "text/x-python",
   "name": "python",
   "nbconvert_exporter": "python",
   "pygments_lexer": "ipython3",
   "version": "3.6.8"
  }
 },
 "nbformat": 4,
 "nbformat_minor": 2
}
